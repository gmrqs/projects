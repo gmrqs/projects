{
 "cells": [
  {
   "cell_type": "markdown",
   "metadata": {},
   "source": [
    "In this notebook I'll briefly show how to simply automate any transaction queries in SAP R/3 (or most of them anyway...) with a _hybrid solution_ with Python and VB Scripting\n",
    "\n",
    "SAP R/3 has a built-in recorder that is just like a MS Excel Macro Recorder. It records every action you would do in a session and write a script with everything that has been done and this will be essential for our tool.\n",
    "\n",
    "As an example I'll automate a FBL3N report extraction. It consists in:\n",
    "- Setting a list accounts;\n",
    "- Setting a list of companies;\n",
    "- Setting a time range;\n",
    "- Choosing a Layout;\n",
    "- Executing the transaction;\n",
    "- Exporting the report for a local file (.xls);\n",
    "\n",
    "All these actions can be recorded with the SAP GUI Recorder and made into vbs scripts. You can check the vbs_scripts folder for those files, but it's probabbly best if you record yours yourself since sometimes these ERP systems are build differently.\n",
    "\n",
    "Some input info like the 'list of accounts' and 'list of companies' are very dense lists, containing hundreds of items, so it is best if you build a dataframe containing these information you want to use as query parameter.\n",
    "\n",
    "SAP also works with _copy and paste_ (good'ol ctrl+c/ctrl+v), and you can gain a lot of speed by using these commands in your recordings. So i'll present a function that copies a column of a dataframe to your cliboard, so your vbs scripts can paste it in SAP."
   ]
  },
  {
   "cell_type": "code",
   "execution_count": 4,
   "metadata": {},
   "outputs": [],
   "source": [
    "import re\n",
    "import pyperclip\n",
    "\n",
    "def dfcol_to_clipboard(dataframe, column_name):\n",
    "    copied_string = dataframe[column_name].to_string(index = False)\n",
    "    copied_string = re.sub(r\"\\s{2,}\",\"\\r\\n\", copied_sring)\n",
    "    pyperclip.copy(copied_string)\n",
    "    return 'done!'"
   ]
  },
  {
   "cell_type": "markdown",
   "metadata": {},
   "source": [
    "Now, lets just suppose you have a pandas script that reads a spreadsheet with collumns of accounts and companies that you want to explore in FBL3N. And this scripts spits off a dataframe that contain dozens of columns but with 'accounts' and 'companies' being two of it. It will be argument to the FBL3N function.\n",
    "\n",
    "The function below will execute the sequence of vbs scripts in order to automate the FBL3N query in SAP, provided you have given it a data frame to copy those accounts and companies from."
   ]
  },
  {
   "cell_type": "code",
   "execution_count": 9,
   "metadata": {},
   "outputs": [],
   "source": [
    "import pandas as pd\n",
    "import numpy as np\n",
    "import easygui as ezg\n",
    "import subprocess\n",
    "import os\n",
    "\n",
    "def FBL3N(dataframe, outName = 'FBL3N.xls'):\n",
    "    \n",
    "    #very basic UI, but you can use whatever you want to get this information\n",
    "    \n",
    "    vbsFolder = ezg.diropenbox(msg = 'select your vbs scripts folder')\n",
    "    outputFolder = ezg.diropenbox(msg = 'select your output folder')\n",
    "    start_date = ezg.enterbox(msg = 'enter start date as DD.MM.YYYY')\n",
    "    end_date = ezg.enterbox(msg = 'enter final date as DD.MM.YYYY')\n",
    "\n",
    "    #Executing the sequence of vbs scripts\n",
    "    \n",
    "    #Runs the script that start FBL3N\n",
    "    vbs_fbl3n_start = os.path.join(vbsFolder, 'fbl3n_start.vbs')\n",
    "    subprocess.call(['cscript.exe', vbs_fbl3n_start])\n",
    "    \n",
    "    #Runs the script to input accounts\n",
    "    vbs_fbl3n_account = os.path.join(vbsFolder, 'fbl3n_account.vbs')\n",
    "    dfcolumn_to_clipboard(dataframe, 'account')\n",
    "    subprocess.call(['cscript.exe', vbs_fbl3n_account])\n",
    "    \n",
    "    #Runs the script o input companies\n",
    "    vbs_fbl3n_company = os.path.join(vbsFolder, 'fbl3n_company.vbs')\n",
    "    dfcolumn_to_clipboard(dataframe, 'company')\n",
    "    subprocess.call(['cscript.exe', vbs_fbl3n_company])\n",
    "    \n",
    "    #Runs the script to input dates\n",
    "    vbs_fbl3n_dates = os.path.join(vbsFolder, 'fbl3n_dates.vbs')\n",
    "    subprocess.call(['cscript.exe', vbs_fbl3n_dates, start_date, end_date]) #here, star_date and end_date becomes WScript.Arguments(0) and (1) respectively\n",
    "    \n",
    "    #Runs the script that chooses layout\n",
    "    vbs_fbl3n_layout = os.path.join(vbsFolder, 'fbl3n_layout.vbs')\n",
    "    subprocess.call(['cscript.exe', vbs_fbl3n_layout])\n",
    "    \n",
    "    #Runs the script that executes the tranaction\n",
    "    vbs_fbl3n_execute = os.path.join(vbsFolder, 'fbl3n_execute.vbs')\n",
    "    subprocess.call(['cscript.exe', vbs_fbl3n_execute])\n",
    "    \n",
    "    #Runs the extraction of the result in a .xls file\n",
    "    vbs_fbl3n_extract = os.path.join(vbsFolder, 'fbl3n_extract.vbs')\n",
    "    output_path = os.path.join(outputFolder, outName)\n",
    "    if os.path.exists(output_path):\n",
    "        os.remove(output_path)   \n",
    "    subprocess.call(['cscript.exe', vbs_fbl3n_extract, outputFolder, outName])\n",
    "    "
   ]
  },
  {
   "cell_type": "markdown",
   "metadata": {},
   "source": [
    "The essence of automating chores that way is basically:\n",
    "\n",
    "- Record the tasks in SAP GUI Recorder;\n",
    "- Segregate them to help you keeping thigs clean and modular;\n",
    "- Build the python code according to this;"
   ]
  },
  {
   "cell_type": "markdown",
   "metadata": {},
   "source": [
    "On my work I also do a lot of pre-processing in the input dataframe and even convert/parse the output file in a pandas dataframe for further work with the data, but they contain sensible stuff, so I've skipped it."
   ]
  }
 ],
 "metadata": {
  "kernelspec": {
   "display_name": "Python 3",
   "language": "python",
   "name": "python3"
  },
  "language_info": {
   "codemirror_mode": {
    "name": "ipython",
    "version": 3
   },
   "file_extension": ".py",
   "mimetype": "text/x-python",
   "name": "python",
   "nbconvert_exporter": "python",
   "pygments_lexer": "ipython3",
   "version": "3.7.5"
  }
 },
 "nbformat": 4,
 "nbformat_minor": 4
}
